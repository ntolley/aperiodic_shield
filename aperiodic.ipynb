{
 "cells": [
  {
   "cell_type": "code",
   "execution_count": 1,
   "metadata": {},
   "outputs": [],
   "source": [
    "import pynwb\n",
    "from allensdk.brain_observatory.ecephys.dynamic_gating_ecephys_session import DynamicGatingEcephysSession\n",
    "import numpy as np\n",
    "import pandas as pd\n",
    "import matplotlib.pyplot as plt\n",
    "import os\n",
    "%matplotlib inline\n",
    "\n",
    "import xarray as xr\n",
    "import sys\n",
    "\n",
    "# Add the path you want to include\n",
    "sys.path.append('code')\n",
    "\n",
    "from shield_utils import find_animals, get_lfp_dict, downsample, align_lfp\n",
    "\n",
    "import json\n",
    "\n",
    "data_path = '/oscar/data/sjones/kduecker/shield_data/'\n",
    "\n",
    "meta_path = 'externals/SHIELD_Dynamic_Gating_Analysis'\n"
   ]
  },
  {
   "cell_type": "code",
   "execution_count": 2,
   "metadata": {},
   "outputs": [],
   "source": [
    "# find mice of interest\n",
    "\n",
    "mice = find_animals(meta_path)\n"
   ]
  },
  {
   "cell_type": "code",
   "execution_count": 3,
   "metadata": {},
   "outputs": [],
   "source": [
    "with open('session_info.json', 'r') as file:\n",
    "    session_info = json.load(file)"
   ]
  },
  {
   "cell_type": "code",
   "execution_count": 4,
   "metadata": {},
   "outputs": [],
   "source": [
    "subj = session_info['sessions_all_areas'][0][0:6]"
   ]
  },
  {
   "cell_type": "code",
   "execution_count": 5,
   "metadata": {},
   "outputs": [],
   "source": [
    "# get good subjects and good sessions from Christian's .json file\n",
    "ses_files = os.listdir(os.path.join(data_path,f'sub-{subj}'))\n",
    "\n",
    "# get lfp files and spike files\n",
    "lfp_files = list(filter(lambda s: 'None' in s, ses_files))\n",
    "session = session_info['sessions_all_areas'][0][7:-1]\n",
    "spike_files = list(filter(lambda s: session in s, ses_files))\n"
   ]
  },
  {
   "cell_type": "code",
   "execution_count": 6,
   "metadata": {},
   "outputs": [],
   "source": [
    "down_srate = 500\n",
    "roi = ['LGd', 'VISp', 'VISl']\n",
    "toi = [0, 2]\n",
    "layer_lfp = dict()\n"
   ]
  },
  {
   "cell_type": "code",
   "execution_count": 7,
   "metadata": {},
   "outputs": [
    {
     "name": "stdout",
     "output_type": "stream",
     "text": [
      "loading session: sub-607660_ses-20220606T223505.nwb\n",
      "loading session: sub-607660_ses-20220607T212534.nwb\n"
     ]
    },
    {
     "ename": "KeyboardInterrupt",
     "evalue": "",
     "output_type": "error",
     "traceback": [
      "\u001b[0;31m---------------------------------------------------------------------------\u001b[0m",
      "\u001b[0;31mKeyboardInterrupt\u001b[0m                         Traceback (most recent call last)",
      "\u001b[1;32m/users/kduecker/aperiodic_shield/aperiodic.ipynb Cell 7\u001b[0m line \u001b[0;36m1\n\u001b[0;32m----> <a href='vscode-notebook-cell://ood.ccv.brown.edu/users/kduecker/aperiodic_shield/aperiodic.ipynb#W6sdnNjb2RlLXJlbW90ZQ%3D%3D?line=0'>1</a>\u001b[0m layer_lfp \u001b[39m=\u001b[39m get_lfp_dict(subj, data_path, lfp_files, spike_files[:\u001b[39m2\u001b[39;49m], toi, down_srate, roi)\n",
      "File \u001b[0;32m/oscar/home/kduecker/aperiodic_shield/code/shield_utils.py:135\u001b[0m, in \u001b[0;36mget_lfp_dict\u001b[0;34m(subj, data_path, lfp_files, all_sessions, toi, down_srate, roi)\u001b[0m\n\u001b[1;32m    130\u001b[0m new_data \u001b[39m=\u001b[39m np\u001b[39m.\u001b[39mzeros((aligned_lfp\u001b[39m.\u001b[39mdata\u001b[39m.\u001b[39mshape[\u001b[39m0\u001b[39m], aligned_lfp\u001b[39m.\u001b[39mdata\u001b[39m.\u001b[39mshape[\u001b[39m1\u001b[39m], new_time_points))\n\u001b[1;32m    132\u001b[0m \u001b[39mfor\u001b[39;00m i, channel_lfp \u001b[39min\u001b[39;00m \u001b[39menumerate\u001b[39m(aligned_lfp\u001b[39m.\u001b[39mdata):\n\u001b[1;32m    133\u001b[0m \n\u001b[1;32m    134\u001b[0m     \u001b[39m# Downsample the current channel\u001b[39;00m\n\u001b[0;32m--> 135\u001b[0m     downsampled_channel \u001b[39m=\u001b[39m downsample(channel_lfp, srate, down_srate)\n\u001b[1;32m    137\u001b[0m     \u001b[39m# Assign the downsampled channel to the new array\u001b[39;00m\n\u001b[1;32m    138\u001b[0m     new_data[i] \u001b[39m=\u001b[39m downsampled_channel\n",
      "File \u001b[0;32m/oscar/home/kduecker/aperiodic_shield/code/shield_utils.py:26\u001b[0m, in \u001b[0;36mdownsample\u001b[0;34m(trace, original_fs, target_fs)\u001b[0m\n\u001b[1;32m     24\u001b[0m nyq \u001b[39m=\u001b[39m target_fs \u001b[39m/\u001b[39m \u001b[39m2\u001b[39m\n\u001b[1;32m     25\u001b[0m b, a \u001b[39m=\u001b[39m signal\u001b[39m.\u001b[39mbutter(\u001b[39m4\u001b[39m, nyq, fs\u001b[39m=\u001b[39moriginal_fs, btype\u001b[39m=\u001b[39m\u001b[39m'\u001b[39m\u001b[39mlow\u001b[39m\u001b[39m'\u001b[39m)\n\u001b[0;32m---> 26\u001b[0m filtered \u001b[39m=\u001b[39m signal\u001b[39m.\u001b[39;49mfiltfilt(b, a, trace)\n\u001b[1;32m     27\u001b[0m down \u001b[39m=\u001b[39m \u001b[39mint\u001b[39m(original_fs \u001b[39m/\u001b[39m target_fs)\n\u001b[1;32m     28\u001b[0m downsampled \u001b[39m=\u001b[39m signal\u001b[39m.\u001b[39mdecimate(filtered, down, ftype\u001b[39m=\u001b[39m\u001b[39m'\u001b[39m\u001b[39mfir\u001b[39m\u001b[39m'\u001b[39m)\n",
      "File \u001b[0;32m~/.local/lib/python3.9/site-packages/scipy/signal/_signaltools.py:4185\u001b[0m, in \u001b[0;36mfiltfilt\u001b[0;34m(b, a, x, axis, padtype, padlen, method, irlen)\u001b[0m\n\u001b[1;32m   4182\u001b[0m x0 \u001b[39m=\u001b[39m axis_slice(ext, stop\u001b[39m=\u001b[39m\u001b[39m1\u001b[39m, axis\u001b[39m=\u001b[39maxis)\n\u001b[1;32m   4184\u001b[0m \u001b[39m# Forward filter.\u001b[39;00m\n\u001b[0;32m-> 4185\u001b[0m (y, zf) \u001b[39m=\u001b[39m lfilter(b, a, ext, axis\u001b[39m=\u001b[39;49maxis, zi\u001b[39m=\u001b[39;49mzi \u001b[39m*\u001b[39;49m x0)\n\u001b[1;32m   4187\u001b[0m \u001b[39m# Backward filter.\u001b[39;00m\n\u001b[1;32m   4188\u001b[0m \u001b[39m# Create y0 so zi*y0 broadcasts appropriately.\u001b[39;00m\n\u001b[1;32m   4189\u001b[0m y0 \u001b[39m=\u001b[39m axis_slice(y, start\u001b[39m=\u001b[39m\u001b[39m-\u001b[39m\u001b[39m1\u001b[39m, axis\u001b[39m=\u001b[39maxis)\n",
      "File \u001b[0;32m~/.local/lib/python3.9/site-packages/scipy/signal/_signaltools.py:2157\u001b[0m, in \u001b[0;36mlfilter\u001b[0;34m(b, a, x, axis, zi)\u001b[0m\n\u001b[1;32m   2155\u001b[0m     \u001b[39mreturn\u001b[39;00m _sigtools\u001b[39m.\u001b[39m_linear_filter(b, a, x, axis)\n\u001b[1;32m   2156\u001b[0m \u001b[39melse\u001b[39;00m:\n\u001b[0;32m-> 2157\u001b[0m     \u001b[39mreturn\u001b[39;00m _sigtools\u001b[39m.\u001b[39;49m_linear_filter(b, a, x, axis, zi)\n",
      "\u001b[0;31mKeyboardInterrupt\u001b[0m: "
     ]
    }
   ],
   "source": [
    "layer_lfp = get_lfp_dict(subj, data_path, lfp_files, spike_files[:2], toi, down_srate, roi)"
   ]
  },
  {
   "cell_type": "code",
   "execution_count": null,
   "metadata": {},
   "outputs": [],
   "source": []
  }
 ],
 "metadata": {
  "kernelspec": {
   "display_name": "aperiodic",
   "language": "python",
   "name": "python3"
  },
  "language_info": {
   "codemirror_mode": {
    "name": "ipython",
    "version": 3
   },
   "file_extension": ".py",
   "mimetype": "text/x-python",
   "name": "python",
   "nbconvert_exporter": "python",
   "pygments_lexer": "ipython3",
   "version": "3.9.20"
  }
 },
 "nbformat": 4,
 "nbformat_minor": 2
}
