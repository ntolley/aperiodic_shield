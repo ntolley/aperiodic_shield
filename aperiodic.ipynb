{
 "cells": [
  {
   "cell_type": "code",
   "execution_count": 1,
   "metadata": {},
   "outputs": [],
   "source": [
    "import pynwb\n",
    "from allensdk.brain_observatory.ecephys.dynamic_gating_ecephys_session import DynamicGatingEcephysSession\n",
    "import numpy as np\n",
    "import pandas as pd\n",
    "import matplotlib.pyplot as plt\n",
    "import os\n",
    "%matplotlib inline\n",
    "\n",
    "import xarray as xr\n",
    "import sys\n",
    "\n",
    "# Add the path you want to include\n",
    "sys.path.append('code')\n",
    "\n",
    "from shield_utils import find_animals, get_lfp_dict, downsample, align_lfp\n",
    "\n",
    "import json\n",
    "\n",
    "data_path = '/oscar/data/sjones/kduecker/shield_data/'\n",
    "\n",
    "meta_path = 'externals/SHIELD_Dynamic_Gating_Analysis'\n"
   ]
  },
  {
   "cell_type": "code",
   "execution_count": null,
   "metadata": {},
   "outputs": [],
   "source": [
    "down_srate = 500\n",
    "roi = ['LGd', 'VISp', 'VISl']\n",
    "toi = [0, 2]"
   ]
  },
  {
   "cell_type": "code",
   "execution_count": 3,
   "metadata": {},
   "outputs": [],
   "source": [
    "# load animals of interest\n",
    "\n",
    "with open('session_info.json', 'r') as file:\n",
    "    session_info = json.load(file)\n",
    "\n",
    "\n",
    "# reorganize a bit for ease\n",
    "mice_sess = dict()\n",
    "\n",
    "for session in session_info['sessions_all_areas']:\n",
    "    mice_sess[session[0:6]] = []\n",
    "\n",
    "for session in session_info['sessions_two_areas']:\n",
    "    mice_sess[session[0:6]] = []\n",
    "\n",
    "\n",
    "for session in session_info['sessions_all_areas']:\n",
    "    mice_sess[session[0:6]].append(session[8:])\n",
    "\n",
    "for session in session_info['sessions_two_areas']:\n",
    "    mice_sess[session[0:6]].append(session[8:])\n"
   ]
  },
  {
   "cell_type": "code",
   "execution_count": 36,
   "metadata": {},
   "outputs": [],
   "source": [
    "# loop over mice here and store\n",
    "\n",
    "subj = list(mice_sess.keys())[0]\n",
    "\n",
    "ses_files = os.listdir(os.path.join(data_path,f'sub-{subj}'))\n",
    "\n",
    "# get lfp files and spike files\n",
    "lfp_files = list(filter(lambda s: 'None' in s, ses_files))\n",
    "session = mice_sess['subj']\n",
    "ses_file = list(filter(lambda s: session in s, ses_files))\n",
    "\n",
    "layer_lfp = get_lfp_dict(subj, data_path, lfp_files, ses_file, toi, down_srate, roi)\n",
    "\n",
    "\n"
   ]
  }
 ],
 "metadata": {
  "kernelspec": {
   "display_name": "aperiodic",
   "language": "python",
   "name": "python3"
  },
  "language_info": {
   "codemirror_mode": {
    "name": "ipython",
    "version": 3
   },
   "file_extension": ".py",
   "mimetype": "text/x-python",
   "name": "python",
   "nbconvert_exporter": "python",
   "pygments_lexer": "ipython3",
   "version": "3.9.20"
  }
 },
 "nbformat": 4,
 "nbformat_minor": 2
}
