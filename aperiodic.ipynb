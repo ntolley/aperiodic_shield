{
 "cells": [
  {
   "cell_type": "code",
   "execution_count": 1,
   "metadata": {},
   "outputs": [
    {
     "name": "stdout",
     "output_type": "stream",
     "text": [
      "loading session: sub-626279_ses-20220928T210634.nwb\n",
      "loading session: sub-626279_ses-20220926T212457.nwb\n"
     ]
    }
   ],
   "source": [
    "\n",
    "# imports\n",
    "import sys\n",
    "import pynwb\n",
    "from allensdk.brain_observatory.ecephys.dynamic_gating_ecephys_session import DynamicGatingEcephysSession\n",
    "import numpy as np\n",
    "import pandas as pd\n",
    "import matplotlib.pyplot as plt\n",
    "import os\n",
    "import xarray as xr\n",
    "import sys\n",
    "import pickle\n",
    "\n",
    "# include code path\n",
    "sys.path.append('code')\n",
    "\n",
    "# load custom shield scripts\n",
    "from shield_utils import find_animals, get_lfp_dict, downsample, align_lfp, load_animals_oi\n",
    "\n",
    "# paths\n",
    "data_path = '/oscar/data/sjones/kduecker/shield_data'\n",
    "meta_path = 'externals/SHIELD_Dynamic_Gating_Analysis'\n",
    "\n",
    "\n",
    "#for subj_id in range(6):\n",
    "# # subj_id from array job\n",
    "# subj_id = 1\n",
    "\n",
    "subj_id = 1\n",
    "down_srate = 500            # downsampling\n",
    "roi = ['LGd', 'VISp']       # regions of interest\n",
    "toi = [0, 2]                # time window around \n",
    "\n",
    "mice_sess = load_animals_oi()  # load subject and sesson IDs\n",
    "\n",
    "# loop over mice here and store\n",
    "subj = list(mice_sess.keys())[subj_id]\n",
    "\n",
    "ses_files = os.listdir(os.path.join(data_path,f'sub-{subj}'))           # sessions per mouse\n",
    "\n",
    "# get lfp files and spike files\n",
    "lfp_files = list(filter(lambda s: 'None' in s, ses_files))\n",
    "\n",
    "# load the sessions that have the ROIs\n",
    "\n",
    "for session in mice_sess[subj]:\n",
    "        ses_file = list(filter(lambda s: session in s, ses_files))\n",
    "\n",
    "        ses_file = list(filter(lambda s: session in s, ses_files))\n",
    "\n",
    "        layer_lfp = get_lfp_dict(subj, data_path, lfp_files, ses_file[0], toi, down_srate, roi) \n",
    "\n",
    "        # with open(os.path.join(data_path,'results_lfp_layer', f'lfp_{subj}_{session}.pkl'), 'rb') as f:\n",
    "        #         layer_lfp = pickle.load(f)\n",
    "\n",
    "        # print(f'mouse {subj} session {session} length lfp {len(layer_lfp)}')"
   ]
  },
  {
   "cell_type": "code",
   "execution_count": 86,
   "metadata": {},
   "outputs": [
    {
     "ename": "KeyError",
     "evalue": "'stimulus'",
     "output_type": "error",
     "traceback": [
      "\u001b[0;31m---------------------------------------------------------------------------\u001b[0m",
      "\u001b[0;31mKeyError\u001b[0m                                  Traceback (most recent call last)",
      "\u001b[1;32m/users/kduecker/aperiodic_shield/aperiodic.ipynb Cell 2\u001b[0m line \u001b[0;36m1\n\u001b[1;32m      <a href='vscode-notebook-cell://ood.ccv.brown.edu/users/kduecker/aperiodic_shield/aperiodic.ipynb#W4sdnNjb2RlLXJlbW90ZQ%3D%3D?line=7'>8</a>\u001b[0m nwb_file_asset \u001b[39m=\u001b[39m pynwb\u001b[39m.\u001b[39mNWBHDF5IO(\u001b[39mf\u001b[39m\u001b[39m'\u001b[39m\u001b[39m{\u001b[39;00mdata_path\u001b[39m}\u001b[39;00m\u001b[39m/sub-\u001b[39m\u001b[39m{\u001b[39;00msubj\u001b[39m}\u001b[39;00m\u001b[39m/\u001b[39m\u001b[39m{\u001b[39;00mses_file\u001b[39m}\u001b[39;00m\u001b[39m'\u001b[39m, mode\u001b[39m=\u001b[39m\u001b[39m'\u001b[39m\u001b[39mr\u001b[39m\u001b[39m'\u001b[39m, load_namespaces\u001b[39m=\u001b[39m\u001b[39mTrue\u001b[39;00m)\n\u001b[1;32m      <a href='vscode-notebook-cell://ood.ccv.brown.edu/users/kduecker/aperiodic_shield/aperiodic.ipynb#W4sdnNjb2RlLXJlbW90ZQ%3D%3D?line=8'>9</a>\u001b[0m nwb_file \u001b[39m=\u001b[39m nwb_file_asset\u001b[39m.\u001b[39mread()\n\u001b[0;32m---> <a href='vscode-notebook-cell://ood.ccv.brown.edu/users/kduecker/aperiodic_shield/aperiodic.ipynb#W4sdnNjb2RlLXJlbW90ZQ%3D%3D?line=9'>10</a>\u001b[0m dynamic_gating_session \u001b[39m=\u001b[39m DynamicGatingEcephysSession\u001b[39m.\u001b[39;49mfrom_nwb(nwb_file)\n\u001b[1;32m     <a href='vscode-notebook-cell://ood.ccv.brown.edu/users/kduecker/aperiodic_shield/aperiodic.ipynb#W4sdnNjb2RlLXJlbW90ZQ%3D%3D?line=11'>12</a>\u001b[0m \u001b[39m# probe map\u001b[39;00m\n\u001b[1;32m     <a href='vscode-notebook-cell://ood.ccv.brown.edu/users/kduecker/aperiodic_shield/aperiodic.ipynb#W4sdnNjb2RlLXJlbW90ZQ%3D%3D?line=12'>13</a>\u001b[0m probe_index \u001b[39m=\u001b[39m dynamic_gating_session\u001b[39m.\u001b[39mprobes\u001b[39m.\u001b[39mindex\n",
      "File \u001b[0;32m~/.conda/envs/allensdk/lib/python3.9/site-packages/allensdk/brain_observatory/ecephys/dynamic_gating_ecephys_session.py:549\u001b[0m, in \u001b[0;36mDynamicGatingEcephysSession.from_nwb\u001b[0;34m(cls, nwbfile, probe_data_path_map, **kwargs)\u001b[0m\n\u001b[1;32m    529\u001b[0m \u001b[39m\u001b[39m\u001b[39m\"\"\"\u001b[39;00m\n\u001b[1;32m    530\u001b[0m \n\u001b[1;32m    531\u001b[0m \u001b[39mParameters\u001b[39;00m\n\u001b[0;32m   (...)\u001b[0m\n\u001b[1;32m    546\u001b[0m \u001b[39minstantiated `DynamicGatingEcephysSession`\u001b[39;00m\n\u001b[1;32m    547\u001b[0m \u001b[39m\"\"\"\u001b[39;00m\n\u001b[1;32m    548\u001b[0m kwargs[\u001b[39m'\u001b[39m\u001b[39madd_is_change_to_stimulus_presentations_table\u001b[39m\u001b[39m'\u001b[39m] \u001b[39m=\u001b[39m \u001b[39mFalse\u001b[39;00m\n\u001b[0;32m--> 549\u001b[0m behavior_session \u001b[39m=\u001b[39m \u001b[39mcls\u001b[39;49m\u001b[39m.\u001b[39;49mbehavior_data_class()\u001b[39m.\u001b[39;49mfrom_nwb(\n\u001b[1;32m    550\u001b[0m     nwbfile\u001b[39m=\u001b[39;49mnwbfile,\n\u001b[1;32m    551\u001b[0m     \u001b[39m*\u001b[39;49m\u001b[39m*\u001b[39;49mkwargs\n\u001b[1;32m    552\u001b[0m )\n\u001b[1;32m    553\u001b[0m \u001b[39mreturn\u001b[39;00m DynamicGatingEcephysSession(\n\u001b[1;32m    554\u001b[0m     behavior_session\u001b[39m=\u001b[39mbehavior_session,\n\u001b[1;32m    555\u001b[0m     probes\u001b[39m=\u001b[39mProbes\u001b[39m.\u001b[39mfrom_nwb(\n\u001b[0;32m   (...)\u001b[0m\n\u001b[1;32m    559\u001b[0m     metadata\u001b[39m=\u001b[39mBehaviorEcephysMetadata\u001b[39m.\u001b[39mfrom_nwb(nwbfile\u001b[39m=\u001b[39mnwbfile)\n\u001b[1;32m    560\u001b[0m )\n",
      "File \u001b[0;32m~/.conda/envs/allensdk/lib/python3.9/site-packages/allensdk/brain_observatory/behavior/dynamic_gating_session.py:527\u001b[0m, in \u001b[0;36mDynamicGatingSession.from_nwb\u001b[0;34m(cls, nwbfile, add_is_change_to_stimulus_presentations_table, eye_tracking_z_threshold, eye_tracking_dilation_frames)\u001b[0m\n\u001b[1;32m    505\u001b[0m \u001b[39m\u001b[39m\u001b[39m\"\"\"\u001b[39;00m\n\u001b[1;32m    506\u001b[0m \n\u001b[1;32m    507\u001b[0m \u001b[39mParameters\u001b[39;00m\n\u001b[0;32m   (...)\u001b[0m\n\u001b[1;32m    524\u001b[0m \n\u001b[1;32m    525\u001b[0m \u001b[39m\"\"\"\u001b[39;00m\n\u001b[1;32m    526\u001b[0m behavior_session_id \u001b[39m=\u001b[39m BehaviorSessionId\u001b[39m.\u001b[39mfrom_nwb(nwbfile)\n\u001b[0;32m--> 527\u001b[0m stimulus_timestamps \u001b[39m=\u001b[39m StimulusTimestamps\u001b[39m.\u001b[39;49mfrom_nwb(nwbfile)\n\u001b[1;32m    528\u001b[0m running_acquisition \u001b[39m=\u001b[39m RunningAcquisition\u001b[39m.\u001b[39mfrom_nwb(nwbfile)\n\u001b[1;32m    529\u001b[0m raw_running_speed \u001b[39m=\u001b[39m RunningSpeed\u001b[39m.\u001b[39mfrom_nwb(nwbfile, filtered\u001b[39m=\u001b[39m\u001b[39mFalse\u001b[39;00m)\n",
      "File \u001b[0;32m~/.conda/envs/allensdk/lib/python3.9/site-packages/allensdk/brain_observatory/behavior/data_objects/timestamps/stimulus_timestamps/stimulus_timestamps.py:374\u001b[0m, in \u001b[0;36mStimulusTimestamps.from_nwb\u001b[0;34m(cls, nwbfile)\u001b[0m\n\u001b[1;32m    371\u001b[0m \u001b[39m@classmethod\u001b[39m\n\u001b[1;32m    372\u001b[0m \u001b[39mdef\u001b[39;00m \u001b[39mfrom_nwb\u001b[39m(\u001b[39mcls\u001b[39m,\n\u001b[1;32m    373\u001b[0m              nwbfile: NWBFile) \u001b[39m-\u001b[39m\u001b[39m>\u001b[39m \u001b[39m\"\u001b[39m\u001b[39mStimulusTimestamps\u001b[39m\u001b[39m\"\u001b[39m:\n\u001b[0;32m--> 374\u001b[0m     stim_module \u001b[39m=\u001b[39m nwbfile\u001b[39m.\u001b[39;49mprocessing[\u001b[39m\"\u001b[39;49m\u001b[39mstimulus\u001b[39;49m\u001b[39m\"\u001b[39;49m]\n\u001b[1;32m    375\u001b[0m     stim_ts_interface \u001b[39m=\u001b[39m stim_module\u001b[39m.\u001b[39mget_data_interface(\u001b[39m\"\u001b[39m\u001b[39mtimestamps\u001b[39m\u001b[39m\"\u001b[39m)\n\u001b[1;32m    376\u001b[0m     stim_timestamps \u001b[39m=\u001b[39m stim_ts_interface\u001b[39m.\u001b[39mtimestamps[:]\n",
      "File \u001b[0;32m~/.conda/envs/allensdk/lib/python3.9/site-packages/hdmf/utils.py:1015\u001b[0m, in \u001b[0;36mLabelledDict.__getitem__\u001b[0;34m(self, args)\u001b[0m\n\u001b[1;32m   1013\u001b[0m         \u001b[39mreturn\u001b[39;00m \u001b[39msuper\u001b[39m()\u001b[39m.\u001b[39m\u001b[39m__getitem__\u001b[39m(val)\n\u001b[1;32m   1014\u001b[0m \u001b[39melse\u001b[39;00m:\n\u001b[0;32m-> 1015\u001b[0m     \u001b[39mreturn\u001b[39;00m \u001b[39msuper\u001b[39;49m()\u001b[39m.\u001b[39;49m\u001b[39m__getitem__\u001b[39;49m(key)\n",
      "\u001b[0;31mKeyError\u001b[0m: 'stimulus'"
     ]
    },
    {
     "ename": "",
     "evalue": "",
     "output_type": "error",
     "traceback": [
      "\u001b[1;31mThe Kernel crashed while executing code in the the current cell or a previous cell. Please review the code in the cell(s) to identify a possible cause of the failure. Click <a href='https://aka.ms/vscodeJupyterKernelCrash'>here</a> for more info. View Jupyter <a href='command:jupyter.viewOutput'>log</a> for further details."
     ]
    }
   ],
   "source": [
    "lfp_chan = []\n",
    "# extract layer for each unit\n",
    "layer_areas_units = dict()\n",
    "\n",
    "single_units = []\n",
    "\n",
    "for ses_file in ses_files:\n",
    "    nwb_file_asset = pynwb.NWBHDF5IO(f'{data_path}/sub-{subj}/{ses_file}', mode='r', load_namespaces=True)\n",
    "    nwb_file = nwb_file_asset.read()\n",
    "    dynamic_gating_session = DynamicGatingEcephysSession.from_nwb(nwb_file)\n",
    "\n",
    "    # probe map\n",
    "    probe_index = dynamic_gating_session.probes.index\n",
    "    probe_map = {}\n",
    "    for p in probe_index:\n",
    "        probe_name = dynamic_gating_session.probes.name[p]\n",
    "        filename = list(filter(lambda s: '-'+str(p)+'_' in s, lfp_files))\n",
    "        probe_map[probe_name] = os.path.join(os.path.join(data_path,f'sub-{subj}'),filename[0])\n",
    "\n",
    "    # add the LFP data to the session object\n",
    "    dynamic_gating_session = DynamicGatingEcephysSession.from_nwb(nwb_file, probe_data_path_map=probe_map)\n",
    "\n",
    "    # get the channels\n",
    "    sess_units = dynamic_gating_session.get_units()\n",
    "    single_units.append(sess_units.index.values)\n",
    "\n",
    "    # find the different layers in the brain area (e.g. VISpl2/3. VISl4, VISpl5)\n",
    "\n",
    "    areas = np.unique(sess_units.structure_layer.values)\n",
    "    area_layers = [name for name in areas if any(r in name for r in roi)]\n",
    "\n",
    "    for al in area_layers:\n",
    "        layer_areas_units[al] = sess_units[sess_units.structure_layer.str.contains(al)].index\n",
    "\n",
    "    # get stimulus presentations\n",
    "    stim_presentations = dynamic_gating_session.stimulus_presentations\n",
    "    flashes = stim_presentations[stim_presentations['stimulus_name'].str.contains('flash')]\n",
    "    presentation_times = flashes.start_time.values\n",
    "    flash_end_times = presentation_times + flashes.duration\n",
    "    presentation_ids = flashes.index.values\n",
    "\n",
    "    srate = dynamic_gating_session.probes.sampling_rate.values[0]\n",
    "    dt = 1/srate\n",
    "\n",
    "\n",
    "    # load LFP for each probe\n",
    "    for pi in probe_index:\n",
    "        lfp = dynamic_gating_session.get_lfp(pi)\n",
    "        lfp_chan.append(lfp.channel.values)\n",
    "\n",
    " "
   ]
  },
  {
   "cell_type": "code",
   "execution_count": 2,
   "metadata": {},
   "outputs": [
    {
     "ename": "FileNotFoundError",
     "evalue": "[Errno 2] No such file or directory: '/oscar/data/sjones/kduecker/shield_data/results_lfp_layer/lfp_607660_0220609.pkl'",
     "output_type": "error",
     "traceback": [
      "\u001b[0;31m---------------------------------------------------------------------------\u001b[0m",
      "\u001b[0;31mFileNotFoundError\u001b[0m                         Traceback (most recent call last)",
      "\u001b[1;32m/users/kduecker/aperiodic_shield/aperiodic.ipynb Cell 2\u001b[0m line \u001b[0;36m2\n\u001b[1;32m     <a href='vscode-notebook-cell://ood.ccv.brown.edu/users/kduecker/aperiodic_shield/aperiodic.ipynb#W1sdnNjb2RlLXJlbW90ZQ%3D%3D?line=19'>20</a>\u001b[0m \u001b[39mfor\u001b[39;00m session \u001b[39min\u001b[39;00m mice_sess[subj]:\n\u001b[1;32m     <a href='vscode-notebook-cell://ood.ccv.brown.edu/users/kduecker/aperiodic_shield/aperiodic.ipynb#W1sdnNjb2RlLXJlbW90ZQ%3D%3D?line=20'>21</a>\u001b[0m     ses_file \u001b[39m=\u001b[39m \u001b[39mlist\u001b[39m(\u001b[39mfilter\u001b[39m(\u001b[39mlambda\u001b[39;00m s: session \u001b[39min\u001b[39;00m s, ses_files))\n\u001b[0;32m---> <a href='vscode-notebook-cell://ood.ccv.brown.edu/users/kduecker/aperiodic_shield/aperiodic.ipynb#W1sdnNjb2RlLXJlbW90ZQ%3D%3D?line=23'>24</a>\u001b[0m     \u001b[39mwith\u001b[39;00m \u001b[39mopen\u001b[39;49m(os\u001b[39m.\u001b[39;49mpath\u001b[39m.\u001b[39;49mjoin(data_path,\u001b[39m'\u001b[39;49m\u001b[39mresults_lfp_layer\u001b[39;49m\u001b[39m'\u001b[39;49m, \u001b[39mf\u001b[39;49m\u001b[39m'\u001b[39;49m\u001b[39mlfp_\u001b[39;49m\u001b[39m{\u001b[39;49;00msubj\u001b[39m}\u001b[39;49;00m\u001b[39m_\u001b[39;49m\u001b[39m{\u001b[39;49;00msession\u001b[39m}\u001b[39;49;00m\u001b[39m.pkl\u001b[39;49m\u001b[39m'\u001b[39;49m), \u001b[39m'\u001b[39;49m\u001b[39mrb\u001b[39;49m\u001b[39m'\u001b[39;49m) \u001b[39mas\u001b[39;00m f:\n\u001b[1;32m     <a href='vscode-notebook-cell://ood.ccv.brown.edu/users/kduecker/aperiodic_shield/aperiodic.ipynb#W1sdnNjb2RlLXJlbW90ZQ%3D%3D?line=24'>25</a>\u001b[0m         layer_lfp \u001b[39m=\u001b[39m pickle\u001b[39m.\u001b[39mload(f)\n",
      "File \u001b[0;32m~/.local/lib/python3.9/site-packages/IPython/core/interactiveshell.py:310\u001b[0m, in \u001b[0;36m_modified_open\u001b[0;34m(file, *args, **kwargs)\u001b[0m\n\u001b[1;32m    303\u001b[0m \u001b[39mif\u001b[39;00m file \u001b[39min\u001b[39;00m {\u001b[39m0\u001b[39m, \u001b[39m1\u001b[39m, \u001b[39m2\u001b[39m}:\n\u001b[1;32m    304\u001b[0m     \u001b[39mraise\u001b[39;00m \u001b[39mValueError\u001b[39;00m(\n\u001b[1;32m    305\u001b[0m         \u001b[39mf\u001b[39m\u001b[39m\"\u001b[39m\u001b[39mIPython won\u001b[39m\u001b[39m'\u001b[39m\u001b[39mt let you open fd=\u001b[39m\u001b[39m{\u001b[39;00mfile\u001b[39m}\u001b[39;00m\u001b[39m by default \u001b[39m\u001b[39m\"\u001b[39m\n\u001b[1;32m    306\u001b[0m         \u001b[39m\"\u001b[39m\u001b[39mas it is likely to crash IPython. If you know what you are doing, \u001b[39m\u001b[39m\"\u001b[39m\n\u001b[1;32m    307\u001b[0m         \u001b[39m\"\u001b[39m\u001b[39myou can use builtins\u001b[39m\u001b[39m'\u001b[39m\u001b[39m open.\u001b[39m\u001b[39m\"\u001b[39m\n\u001b[1;32m    308\u001b[0m     )\n\u001b[0;32m--> 310\u001b[0m \u001b[39mreturn\u001b[39;00m io_open(file, \u001b[39m*\u001b[39;49margs, \u001b[39m*\u001b[39;49m\u001b[39m*\u001b[39;49mkwargs)\n",
      "\u001b[0;31mFileNotFoundError\u001b[0m: [Errno 2] No such file or directory: '/oscar/data/sjones/kduecker/shield_data/results_lfp_layer/lfp_607660_0220609.pkl'"
     ]
    }
   ],
   "source": [
    "subj_id = 0\n",
    "\n",
    "\n",
    "down_srate = 500\n",
    "roi = ['LGd', 'VISp']\n",
    "toi = [0, 2]\n",
    "\n",
    "mice_sess = load_animals_oi()\n",
    "\n",
    "# loop over mice here and store\n",
    "\n",
    "subj = list(mice_sess.keys())[subj_id]\n",
    "\n",
    "ses_files = os.listdir(os.path.join(data_path,f'sub-{subj}'))\n",
    "\n",
    "# get lfp files and spike files\n",
    "lfp_files = list(filter(lambda s: 'None' in s, ses_files))\n",
    "\n",
    "\n",
    "for session in mice_sess[subj]:\n",
    "    ses_file = list(filter(lambda s: session in s, ses_files))\n",
    "\n",
    "\n",
    "    with open(os.path.join(data_path,'results_lfp_layer', f'lfp_{subj}_{session}.pkl'), 'rb') as f:\n",
    "        layer_lfp = pickle.load(f)"
   ]
  },
  {
   "cell_type": "code",
   "execution_count": null,
   "metadata": {},
   "outputs": [],
   "source": [
    "for session in mice_sess[subj]:\n",
    "    ses_file = list(filter(lambda s: session in s, ses_files))\n",
    "\n",
    "    layer_lfp = get_lfp_dict(subj, data_path, lfp_files, ses_file[0], toi, down_srate, roi)\n",
    "\n",
    "    with open(os.path.join(data_path,'results_lfp_layer', f'lfp_{subj}_{session}.pkl'), 'wb') as f:\n",
    "        pickle.dump(layer_lfp, f)"
   ]
  }
 ],
 "metadata": {
  "kernelspec": {
   "display_name": "aperiodic",
   "language": "python",
   "name": "python3"
  },
  "language_info": {
   "codemirror_mode": {
    "name": "ipython",
    "version": 3
   },
   "file_extension": ".py",
   "mimetype": "text/x-python",
   "name": "python",
   "nbconvert_exporter": "python",
   "pygments_lexer": "ipython3",
   "version": "3.9.20"
  }
 },
 "nbformat": 4,
 "nbformat_minor": 2
}
