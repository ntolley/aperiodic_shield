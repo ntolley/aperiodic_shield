{
 "cells": [
  {
   "cell_type": "code",
   "execution_count": 1,
   "metadata": {},
   "outputs": [
    {
     "name": "stdout",
     "output_type": "stream",
     "text": [
      "Successfully saved session names to I:\\SWDB_COLLAB\\session_info.json\n"
     ]
    }
   ],
   "source": [
    "import json\n",
    "import os\n",
    "\n",
    "def extract_session_names():\n",
    "    # Define the save path\n",
    "    save_path = r'I:\\SWDB_COLLAB'\n",
    "    file_path = os.path.join(save_path, 'session_info.json')\n",
    "    \n",
    "    # Sessions with all three areas (VISp, VISl, LGd)\n",
    "    sessions_all_areas = [\n",
    "        \"607660_20220607\",\n",
    "        \"607660_20220609\",\n",
    "        \"626279_20220928\",\n",
    "        \"633232_20221110\",\n",
    "        \"638387_20221201\"\n",
    "    ]\n",
    "    \n",
    "    # Sessions with only VISp and LGd\n",
    "    sessions_two_areas = [\n",
    "        \"615048_20220812\",\n",
    "        \"615048_20220810\",\n",
    "        \"607660_20220608\",\n",
    "        \"626279_20220926\",\n",
    "        \"633232_20221108\"\n",
    "    ]\n",
    "    \n",
    "    # Extract subject IDs and session dates\n",
    "    all_sessions = sessions_all_areas + sessions_two_areas\n",
    "    subjects = sorted(list(set([session.split('_')[0] for session in all_sessions])))\n",
    "    session_dates = sorted(list(set([session.split('_')[1] for session in all_sessions])))\n",
    "    \n",
    "    # Create a dictionary of sessions organized by subject\n",
    "    sessions_by_subject = {}\n",
    "    for subject in subjects:\n",
    "        sessions_by_subject[subject] = sorted([\n",
    "            session for session in all_sessions if session.startswith(subject)\n",
    "        ])\n",
    "    \n",
    "    # Combine all information\n",
    "    all_session_info = {\n",
    "        \"sessions_all_areas\": sessions_all_areas,\n",
    "        \"sessions_two_areas\": sessions_two_areas,\n",
    "        \"all_sessions\": all_sessions,\n",
    "        \"subject_ids\": subjects,\n",
    "        \"session_dates\": session_dates,\n",
    "        \"sessions_by_subject\": sessions_by_subject,\n",
    "        \"session_details\": [\n",
    "            {\n",
    "                \"full_session\": session,\n",
    "                \"subject_id\": session.split('_')[0],\n",
    "                \"session_date\": session.split('_')[1]\n",
    "            }\n",
    "            for session in all_sessions\n",
    "        ]\n",
    "    }\n",
    "    \n",
    "    # Create directory if it doesn't exist\n",
    "    os.makedirs(save_path, exist_ok=True)\n",
    "    \n",
    "    # Save to JSON file\n",
    "    try:\n",
    "        with open(file_path, 'w') as f:\n",
    "            json.dump(all_session_info, f, indent=4)\n",
    "        print(f\"Successfully saved session names to {file_path}\")\n",
    "    except Exception as e:\n",
    "        print(f\"Error saving file: {e}\")\n",
    "\n",
    "if __name__ == \"__main__\":\n",
    "    extract_session_names()"
   ]
  },
  {
   "cell_type": "code",
   "execution_count": 2,
   "metadata": {},
   "outputs": [],
   "source": [
    "# Load .json file\n",
    "with open(r'I:\\SWDB_COLLAB\\session_info.json', 'r') as f:\n",
    "    data = json.load(f)\n",
    "\n",
    "# Get all unique subject IDs\n",
    "subjects = data['subject_ids']\n",
    "\n",
    "# Get all sessions for a specific subject\n",
    "subject_sessions = data['sessions_by_subject']['607660']\n",
    "\n",
    "# Get detailed information for all sessions\n",
    "session_details = data['session_details']"
   ]
  },
  {
   "cell_type": "code",
   "execution_count": null,
   "metadata": {},
   "outputs": [],
   "source": []
  }
 ],
 "metadata": {
  "kernelspec": {
   "display_name": "allensdk_env",
   "language": "python",
   "name": "python3"
  },
  "language_info": {
   "codemirror_mode": {
    "name": "ipython",
    "version": 3
   },
   "file_extension": ".py",
   "mimetype": "text/x-python",
   "name": "python",
   "nbconvert_exporter": "python",
   "pygments_lexer": "ipython3",
   "version": "3.9.20"
  }
 },
 "nbformat": 4,
 "nbformat_minor": 2
}
